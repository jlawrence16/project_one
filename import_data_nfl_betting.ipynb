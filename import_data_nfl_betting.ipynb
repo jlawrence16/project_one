{
 "cells": [
  {
   "cell_type": "code",
   "execution_count": 1,
   "metadata": {},
   "outputs": [],
   "source": [
    "#Dependencies\n",
    "\n",
    "import pandas as pd\n",
    "import matplotlib.pyplot as plt\n"
   ]
  },
  {
   "cell_type": "code",
   "execution_count": 13,
   "metadata": {},
   "outputs": [
    {
     "name": "stdout",
     "output_type": "stream",
     "text": [
      "<class 'pandas.core.frame.DataFrame'>\n",
      "RangeIndex: 13788 entries, 0 to 13787\n",
      "Data columns (total 17 columns):\n",
      " #   Column               Non-Null Count  Dtype  \n",
      "---  ------               --------------  -----  \n",
      " 0   schedule_date        13788 non-null  object \n",
      " 1   schedule_season      13788 non-null  int64  \n",
      " 2   schedule_week        13788 non-null  object \n",
      " 3   schedule_playoff     13788 non-null  bool   \n",
      " 4   team_home            13788 non-null  object \n",
      " 5   score_home           13594 non-null  float64\n",
      " 6   score_away           13594 non-null  float64\n",
      " 7   team_away            13788 non-null  object \n",
      " 8   team_favorite_id     11115 non-null  object \n",
      " 9   spread_favorite      11115 non-null  float64\n",
      " 10  over_under_line      11105 non-null  object \n",
      " 11  stadium              13788 non-null  object \n",
      " 12  stadium_neutral      13788 non-null  bool   \n",
      " 13  weather_temperature  12410 non-null  float64\n",
      " 14  weather_wind_mph     12394 non-null  float64\n",
      " 15  weather_humidity     8468 non-null   float64\n",
      " 16  weather_detail       3020 non-null   object \n",
      "dtypes: bool(2), float64(6), int64(1), object(8)\n",
      "memory usage: 1.6+ MB\n"
     ]
    }
   ],
   "source": [
    "#import csv as dataframe\n",
    "data_df=pd.read_csv('spreadspoke_scores.csv')\n",
    "data_df.info()"
   ]
  },
  {
   "cell_type": "code",
   "execution_count": 15,
   "metadata": {},
   "outputs": [
    {
     "name": "stdout",
     "output_type": "stream",
     "text": [
      "<class 'pandas.core.frame.DataFrame'>\n",
      "Index: 11115 entries, 170 to 13593\n",
      "Data columns (total 17 columns):\n",
      " #   Column               Non-Null Count  Dtype  \n",
      "---  ------               --------------  -----  \n",
      " 0   schedule_date        11115 non-null  object \n",
      " 1   schedule_season      11115 non-null  int64  \n",
      " 2   schedule_week        11115 non-null  object \n",
      " 3   schedule_playoff     11115 non-null  bool   \n",
      " 4   team_home            11115 non-null  object \n",
      " 5   score_home           11115 non-null  float64\n",
      " 6   score_away           11115 non-null  float64\n",
      " 7   team_away            11115 non-null  object \n",
      " 8   team_favorite_id     11115 non-null  object \n",
      " 9   spread_favorite      11115 non-null  float64\n",
      " 10  over_under_line      11105 non-null  object \n",
      " 11  stadium              11115 non-null  object \n",
      " 12  stadium_neutral      11115 non-null  bool   \n",
      " 13  weather_temperature  10102 non-null  float64\n",
      " 14  weather_wind_mph     10086 non-null  float64\n",
      " 15  weather_humidity     6379 non-null   float64\n",
      " 16  weather_detail       2803 non-null   object \n",
      "dtypes: bool(2), float64(6), int64(1), object(8)\n",
      "memory usage: 1.4+ MB\n"
     ]
    }
   ],
   "source": [
    "# Clean data - drop NaN in spreads\n",
    "\n",
    "data_df=data_df.dropna(subset=['spread_favorite'])\n",
    "data_df.info()"
   ]
  },
  {
   "cell_type": "code",
   "execution_count": 16,
   "metadata": {},
   "outputs": [
    {
     "data": {
      "text/html": [
       "<div>\n",
       "<style scoped>\n",
       "    .dataframe tbody tr th:only-of-type {\n",
       "        vertical-align: middle;\n",
       "    }\n",
       "\n",
       "    .dataframe tbody tr th {\n",
       "        vertical-align: top;\n",
       "    }\n",
       "\n",
       "    .dataframe thead th {\n",
       "        text-align: right;\n",
       "    }\n",
       "</style>\n",
       "<table border=\"1\" class=\"dataframe\">\n",
       "  <thead>\n",
       "    <tr style=\"text-align: right;\">\n",
       "      <th></th>\n",
       "      <th>schedule_date</th>\n",
       "      <th>schedule_season</th>\n",
       "      <th>schedule_week</th>\n",
       "      <th>schedule_playoff</th>\n",
       "      <th>team_home</th>\n",
       "      <th>score_home</th>\n",
       "      <th>score_away</th>\n",
       "      <th>team_away</th>\n",
       "      <th>team_favorite_id</th>\n",
       "      <th>spread_favorite</th>\n",
       "      <th>over_under_line</th>\n",
       "      <th>stadium</th>\n",
       "      <th>stadium_neutral</th>\n",
       "      <th>weather_temperature</th>\n",
       "      <th>weather_wind_mph</th>\n",
       "      <th>weather_humidity</th>\n",
       "      <th>weather_detail</th>\n",
       "    </tr>\n",
       "  </thead>\n",
       "  <tbody>\n",
       "    <tr>\n",
       "      <th>170</th>\n",
       "      <td>1/15/1967</td>\n",
       "      <td>1966</td>\n",
       "      <td>Superbowl</td>\n",
       "      <td>True</td>\n",
       "      <td>Green Bay Packers</td>\n",
       "      <td>35.0</td>\n",
       "      <td>10.0</td>\n",
       "      <td>Kansas City Chiefs</td>\n",
       "      <td>GB</td>\n",
       "      <td>-14.0</td>\n",
       "      <td>NaN</td>\n",
       "      <td>Los Angeles Memorial Coliseum</td>\n",
       "      <td>True</td>\n",
       "      <td>54.0</td>\n",
       "      <td>7.0</td>\n",
       "      <td>90.0</td>\n",
       "      <td>NaN</td>\n",
       "    </tr>\n",
       "    <tr>\n",
       "      <th>350</th>\n",
       "      <td>1/14/1968</td>\n",
       "      <td>1967</td>\n",
       "      <td>Superbowl</td>\n",
       "      <td>True</td>\n",
       "      <td>Green Bay Packers</td>\n",
       "      <td>33.0</td>\n",
       "      <td>14.0</td>\n",
       "      <td>Oakland Raiders</td>\n",
       "      <td>GB</td>\n",
       "      <td>-13.5</td>\n",
       "      <td>43</td>\n",
       "      <td>Orange Bowl</td>\n",
       "      <td>True</td>\n",
       "      <td>60.0</td>\n",
       "      <td>12.0</td>\n",
       "      <td>74.0</td>\n",
       "      <td>NaN</td>\n",
       "    </tr>\n",
       "    <tr>\n",
       "      <th>538</th>\n",
       "      <td>1/12/1969</td>\n",
       "      <td>1968</td>\n",
       "      <td>Superbowl</td>\n",
       "      <td>True</td>\n",
       "      <td>Baltimore Colts</td>\n",
       "      <td>7.0</td>\n",
       "      <td>16.0</td>\n",
       "      <td>New York Jets</td>\n",
       "      <td>IND</td>\n",
       "      <td>-18.0</td>\n",
       "      <td>40</td>\n",
       "      <td>Orange Bowl</td>\n",
       "      <td>True</td>\n",
       "      <td>66.0</td>\n",
       "      <td>12.0</td>\n",
       "      <td>80.0</td>\n",
       "      <td>rain</td>\n",
       "    </tr>\n",
       "    <tr>\n",
       "      <th>727</th>\n",
       "      <td>1/11/1970</td>\n",
       "      <td>1969</td>\n",
       "      <td>Superbowl</td>\n",
       "      <td>True</td>\n",
       "      <td>Kansas City Chiefs</td>\n",
       "      <td>23.0</td>\n",
       "      <td>7.0</td>\n",
       "      <td>Minnesota Vikings</td>\n",
       "      <td>MIN</td>\n",
       "      <td>-12.0</td>\n",
       "      <td>39</td>\n",
       "      <td>Tulane Stadium</td>\n",
       "      <td>True</td>\n",
       "      <td>55.0</td>\n",
       "      <td>14.0</td>\n",
       "      <td>84.0</td>\n",
       "      <td>rain</td>\n",
       "    </tr>\n",
       "    <tr>\n",
       "      <th>916</th>\n",
       "      <td>1/17/1971</td>\n",
       "      <td>1970</td>\n",
       "      <td>Superbowl</td>\n",
       "      <td>True</td>\n",
       "      <td>Baltimore Colts</td>\n",
       "      <td>16.0</td>\n",
       "      <td>13.0</td>\n",
       "      <td>Dallas Cowboys</td>\n",
       "      <td>IND</td>\n",
       "      <td>-2.5</td>\n",
       "      <td>36</td>\n",
       "      <td>Orange Bowl</td>\n",
       "      <td>True</td>\n",
       "      <td>59.0</td>\n",
       "      <td>11.0</td>\n",
       "      <td>60.0</td>\n",
       "      <td>NaN</td>\n",
       "    </tr>\n",
       "  </tbody>\n",
       "</table>\n",
       "</div>"
      ],
      "text/plain": [
       "    schedule_date  schedule_season schedule_week  schedule_playoff  \\\n",
       "170     1/15/1967             1966     Superbowl              True   \n",
       "350     1/14/1968             1967     Superbowl              True   \n",
       "538     1/12/1969             1968     Superbowl              True   \n",
       "727     1/11/1970             1969     Superbowl              True   \n",
       "916     1/17/1971             1970     Superbowl              True   \n",
       "\n",
       "              team_home  score_home  score_away           team_away  \\\n",
       "170   Green Bay Packers        35.0        10.0  Kansas City Chiefs   \n",
       "350   Green Bay Packers        33.0        14.0     Oakland Raiders   \n",
       "538     Baltimore Colts         7.0        16.0       New York Jets   \n",
       "727  Kansas City Chiefs        23.0         7.0   Minnesota Vikings   \n",
       "916     Baltimore Colts        16.0        13.0      Dallas Cowboys   \n",
       "\n",
       "    team_favorite_id  spread_favorite over_under_line  \\\n",
       "170               GB            -14.0             NaN   \n",
       "350               GB            -13.5              43   \n",
       "538              IND            -18.0              40   \n",
       "727              MIN            -12.0              39   \n",
       "916              IND             -2.5              36   \n",
       "\n",
       "                           stadium  stadium_neutral  weather_temperature  \\\n",
       "170  Los Angeles Memorial Coliseum             True                 54.0   \n",
       "350                    Orange Bowl             True                 60.0   \n",
       "538                    Orange Bowl             True                 66.0   \n",
       "727                 Tulane Stadium             True                 55.0   \n",
       "916                    Orange Bowl             True                 59.0   \n",
       "\n",
       "     weather_wind_mph  weather_humidity weather_detail  \n",
       "170               7.0              90.0            NaN  \n",
       "350              12.0              74.0            NaN  \n",
       "538              12.0              80.0           rain  \n",
       "727              14.0              84.0           rain  \n",
       "916              11.0              60.0            NaN  "
      ]
     },
     "execution_count": 16,
     "metadata": {},
     "output_type": "execute_result"
    }
   ],
   "source": [
    "data_df.head()"
   ]
  },
  {
   "cell_type": "code",
   "execution_count": 42,
   "metadata": {},
   "outputs": [
    {
     "name": "stderr",
     "output_type": "stream",
     "text": [
      "C:\\Users\\tamhl\\AppData\\Local\\Temp\\ipykernel_16488\\4069106810.py:9: SettingWithCopyWarning: \n",
      "A value is trying to be set on a copy of a slice from a DataFrame.\n",
      "Try using .loc[row_indexer,col_indexer] = value instead\n",
      "\n",
      "See the caveats in the documentation: https://pandas.pydata.org/pandas-docs/stable/user_guide/indexing.html#returning-a-view-versus-a-copy\n",
      "  home_data[\"score_difference\"]=home_data['score_home']-home_data['score_away']\n"
     ]
    }
   ],
   "source": [
    "# Home field advantage?\n",
    "\n",
    "# Drop neutral venues\n",
    "\n",
    "home_data= data_df.loc[data_df['stadium_neutral']!=True]\n",
    "\n",
    "# add column for score difference\n",
    "\n",
    "home_data[\"score_difference\"]=home_data['score_home']-home_data['score_away']\n",
    "\n",
    "\n"
   ]
  },
  {
   "cell_type": "code",
   "execution_count": 48,
   "metadata": {},
   "outputs": [
    {
     "data": {
      "text/plain": [
       "<function matplotlib.pyplot.show(close=None, block=None)>"
      ]
     },
     "execution_count": 48,
     "metadata": {},
     "output_type": "execute_result"
    },
    {
     "data": {
      "image/png": "[encoded data removed]",
      "text/plain": [
       "<Figure size 640x480 with 1 Axes>"
      ]
     },
     "metadata": {},
     "output_type": "display_data"
    }
   ],
   "source": [
    "# graph score difference vs date by year\n",
    "home_data_1994 = home_data.loc[home_data['schedule_season']==1994]\n",
    "home_data_1994.head()\n",
    "x_axis= home_data['schedule_date']\n",
    "y_axis=home_data[\"score_difference\"]\n",
    "\n",
    "plt.scatter(x_axis, y_axis)\n",
    "plt.show"
   ]
  },
  {
   "cell_type": "code",
   "execution_count": null,
   "metadata": {},
   "outputs": [],
   "source": [
    "# Group by year and find averages for scoring_difference? W L"
   ]
  }
 ],
 "metadata": {
  "kernelspec": {
   "display_name": "dev",
   "language": "python",
   "name": "python3"
  },
  "language_info": {
   "codemirror_mode": {
    "name": "ipython",
    "version": 3
   },
   "file_extension": ".py",
   "mimetype": "text/x-python",
   "name": "python",
   "nbconvert_exporter": "python",
   "pygments_lexer": "ipython3",
   "version": "3.10.13"
  }
 },
 "nbformat": 4,
 "nbformat_minor": 2
}
