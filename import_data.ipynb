{
 "cells": [
  {
   "cell_type": "code",
   "execution_count": 3,
   "metadata": {},
   "outputs": [],
   "source": [
    "# Dependencies\n",
    "import random\n",
    "import json\n",
    "import requests\n",
    "import pandas as pd"
   ]
  },
  {
   "cell_type": "code",
   "execution_count": 4,
   "metadata": {},
   "outputs": [
    {
     "name": "stderr",
     "output_type": "stream",
     "text": [
      "C:\\Users\\tamhl\\AppData\\Local\\Temp\\ipykernel_4116\\3021380845.py:3: DtypeWarning: Columns (5,7,10,11,12,13,14,34,35,36,37,38,39,40,41,42,43,44,45,46) have mixed types. Specify dtype option on import or set low_memory=False.\n",
      "  data_df=pd.read_csv('MetObjects.csv')\n"
     ]
    }
   ],
   "source": [
    "#import data from csv\n",
    "\n",
    "data_df=pd.read_csv('MetObjects.csv')"
   ]
  },
  {
   "cell_type": "code",
   "execution_count": 5,
   "metadata": {},
   "outputs": [
    {
     "name": "stdout",
     "output_type": "stream",
     "text": [
      "<class 'pandas.core.frame.DataFrame'>\n",
      "RangeIndex: 484956 entries, 0 to 484955\n",
      "Data columns (total 54 columns):\n",
      " #   Column                   Non-Null Count   Dtype  \n",
      "---  ------                   --------------   -----  \n",
      " 0   Object Number            484956 non-null  object \n",
      " 1   Is Highlight             484956 non-null  bool   \n",
      " 2   Is Timeline Work         484956 non-null  bool   \n",
      " 3   Is Public Domain         484956 non-null  bool   \n",
      " 4   Object ID                484956 non-null  int64  \n",
      " 5   Gallery Number           49541 non-null   object \n",
      " 6   Department               484956 non-null  object \n",
      " 7   AccessionYear            481094 non-null  object \n",
      " 8   Object Name              482690 non-null  object \n",
      " 9   Title                    456153 non-null  object \n",
      " 10  Culture                  208190 non-null  object \n",
      " 11  Period                   91143 non-null   object \n",
      " 12  Dynasty                  23201 non-null   object \n",
      " 13  Reign                    11236 non-null   object \n",
      " 14  Portfolio                26514 non-null   object \n",
      " 15  Constituent ID           282513 non-null  object \n",
      " 16  Artist Role              282513 non-null  object \n",
      " 17  Artist Prefix            282513 non-null  object \n",
      " 18  Artist Display Name      282513 non-null  object \n",
      " 19  Artist Display Bio       280423 non-null  object \n",
      " 20  Artist Suffix            282465 non-null  object \n",
      " 21  Artist Alpha Sort        282513 non-null  object \n",
      " 22  Artist Nationality       282513 non-null  object \n",
      " 23  Artist Begin Date        282513 non-null  object \n",
      " 24  Artist End Date          282513 non-null  object \n",
      " 25  Artist Gender            106482 non-null  object \n",
      " 26  Artist ULAN URL          227441 non-null  object \n",
      " 27  Artist Wikidata URL      224202 non-null  object \n",
      " 28  Object Date              471525 non-null  object \n",
      " 29  Object Begin Date        484956 non-null  int64  \n",
      " 30  Object End Date          484956 non-null  int64  \n",
      " 31  Medium                   477741 non-null  object \n",
      " 32  Dimensions               409898 non-null  object \n",
      " 33  Credit Line              484305 non-null  object \n",
      " 34  Geography Type           59959 non-null   object \n",
      " 35  City                     32754 non-null   object \n",
      " 36  State                    2621 non-null    object \n",
      " 37  County                   8559 non-null    object \n",
      " 38  Country                  76007 non-null   object \n",
      " 39  Region                   31500 non-null   object \n",
      " 40  Subregion                22143 non-null   object \n",
      " 41  Locale                   15739 non-null   object \n",
      " 42  Locus                    7518 non-null    object \n",
      " 43  Excavation               16571 non-null   object \n",
      " 44  River                    2092 non-null    object \n",
      " 45  Classification           406239 non-null  object \n",
      " 46  Rights and Reproduction  24529 non-null   object \n",
      " 47  Link Resource            484956 non-null  object \n",
      " 48  Object Wikidata URL      69154 non-null   object \n",
      " 49  Metadata Date            0 non-null       float64\n",
      " 50  Repository               484956 non-null  object \n",
      " 51  Tags                     192455 non-null  object \n",
      " 52  Tags AAT URL             192455 non-null  object \n",
      " 53  Tags Wikidata URL        192455 non-null  object \n",
      "dtypes: bool(3), float64(1), int64(3), object(47)\n",
      "memory usage: 190.1+ MB\n"
     ]
    }
   ],
   "source": [
    "#Examine DataFrame\n",
    "\n",
    "\n",
    "data_df.info()"
   ]
  },
  {
   "cell_type": "code",
   "execution_count": 8,
   "metadata": {},
   "outputs": [
    {
     "data": {
      "text/plain": [
       "AccessionYear\n",
       "1963.0        39846\n",
       "2011.0        18470\n",
       "1917.0        12260\n",
       "2009.0         9299\n",
       "1936.0         9014\n",
       "              ...  \n",
       "2022-05-20        1\n",
       "1894              1\n",
       "1870.0            1\n",
       "1878.0            1\n",
       "1959-12-28        1\n",
       "Name: count, Length: 316, dtype: int64"
      ]
     },
     "execution_count": 8,
     "metadata": {},
     "output_type": "execute_result"
    }
   ],
   "source": [
    "#Value Counts for accession year\n",
    "\n",
    "data_df[\"AccessionYear\"].value_counts()"
   ]
  },
  {
   "cell_type": "code",
   "execution_count": 9,
   "metadata": {},
   "outputs": [
    {
     "data": {
      "text/plain": [
       "Object Date\n",
       "19th century                   17168\n",
       "18th century                   10656\n",
       "17th century                    6511\n",
       "1888                            4757\n",
       "18th–19th century               4645\n",
       "                               ...  \n",
       "1725 (?)                           1\n",
       "n.d. [before 1722]                 1\n",
       "probably early 14th century        1\n",
       "before 1628                        1\n",
       "ca. 1925–33                        1\n",
       "Name: count, Length: 33197, dtype: int64"
      ]
     },
     "execution_count": 9,
     "metadata": {},
     "output_type": "execute_result"
    }
   ],
   "source": [
    "#Value Counts for Object Date\n",
    "\n",
    "data_df[\"Object Date\"].value_counts()"
   ]
  },
  {
   "cell_type": "code",
   "execution_count": 10,
   "metadata": {},
   "outputs": [
    {
     "data": {
      "text/plain": [
       "Title\n",
       "Terracotta fragment of a kylix (drinking cup)                                                                         6415\n",
       "Piece                                                                                                                 4670\n",
       "Fragment                                                                                                              3362\n",
       "Dress                                                                                                                 2513\n",
       "Ensemble                                                                                                              2026\n",
       "                                                                                                                      ... \n",
       "Mrs. Siddons in the Character of Jane Shore                                                                              1\n",
       "Frederick the Great (\"Friderichs Rex\")                                                                                   1\n",
       "Negative silhouette of Kean and Edgar                                                                                    1\n",
       "Amsterdam in zijne opkonst (...) Vol. I-III.                                                                             1\n",
       "De la loi du contraste simultané des couleurs, et de l'assortiment des objets colorés, considéré d'après cette loi       1\n",
       "Name: count, Length: 245800, dtype: int64"
      ]
     },
     "execution_count": 10,
     "metadata": {},
     "output_type": "execute_result"
    }
   ],
   "source": [
    "# Value Counts of titles (types of art)\n",
    "\n",
    "data_df[\"Title\"].value_counts()"
   ]
  },
  {
   "cell_type": "code",
   "execution_count": 11,
   "metadata": {},
   "outputs": [
    {
     "data": {
      "text/plain": [
       "Country\n",
       "Egypt                       31296\n",
       "United States                9169\n",
       "Iran                         6276\n",
       "Peru                         3393\n",
       "France                       1726\n",
       "                            ...  \n",
       "Modern cast of 39.40.39a        1\n",
       "Syria or Iran                   1\n",
       "possibly Afghanistan            1\n",
       "India or Sri Lanka              1\n",
       "Austia                          1\n",
       "Name: count, Length: 967, dtype: int64"
      ]
     },
     "execution_count": 11,
     "metadata": {},
     "output_type": "execute_result"
    }
   ],
   "source": [
    "# Find number of unique countries\n",
    "\n",
    "data_df[\"Country\"].value_counts()"
   ]
  },
  {
   "cell_type": "code",
   "execution_count": 15,
   "metadata": {},
   "outputs": [
    {
     "data": {
      "text/plain": [
       "array([nan, '|', '|Female', '||', '||||', 'Female|', 'Female', '|||',\n",
       "       'Female|Female', '||Female', '|Female|Female', 'Female||',\n",
       "       'Female|Female|Female|Female|Female||Female|Female||||||Female|Female|Female|Female|||Female|||Female|Female|',\n",
       "       '|Female|', '|||Female', 'Female||Female', 'Female|Female|Female|',\n",
       "       '||||||||', '|||||||||||||||||||||||||||', 'Female|Female|',\n",
       "       'Female|Female||', 'Female|||', '|Female||', '||Female|Female',\n",
       "       '|Female||Female', '||Female|', 'Female|Female|Female', '||||||',\n",
       "       '|Female|||Female', '|||||', '|||||||', '||||Female|',\n",
       "       '||||||||||', '||||||||||||||||', '|||||||||||||', '|||||||||',\n",
       "       '||||||||||||||||||||',\n",
       "       'Female|||||||||||||||||||||||||||||Female||Female||||',\n",
       "       'Female||||Female|||Female|||||||||||||||||Female|',\n",
       "       '|Female||||||||||||||Female', '||||||Female||||||',\n",
       "       'Female||||Female|||||Female|||',\n",
       "       '|||||Female||||||Female|||||Female||||Female', '||||Female',\n",
       "       '||||||||||||||||||||||||||||||', '||Female||',\n",
       "       'Female|||||||Female|Female||||Female||', '|||||||||||||||||',\n",
       "       '||||||||||||||||||', '||Female|Female|Female|||||Female|||||',\n",
       "       '||||||||||||', '|||||||||||||||',\n",
       "       '||||||||||||||||||||||||||||||||||||||', '||Female||||||',\n",
       "       '||||||||||||||||||||||||||', 'Female|||Female|', '|||||||||||',\n",
       "       '||Female|||||||||||Female|||||||', '|||||||||Female',\n",
       "       '||||||||Female||||||||', '|Female||||||||||||||Female||||',\n",
       "       '|||Female|', '|||||||||||||Female||||||',\n",
       "       '|||||||||||||||||||||||||||||', '|||||||Female|Female',\n",
       "       '|||||||Female|', '||||||||||||||Female|||||||', '||||||||||||||',\n",
       "       '|||||||||Female|', '||Female||Female||', '|Female|Female|Female',\n",
       "       '|Female||||||||||||||||Female|||||||||||||||',\n",
       "       '|||||Female||||||||||||Female|||Female|||||||||',\n",
       "       '||||||||||||Female|||||Female||||||||||||||',\n",
       "       '|||||||||||||||||Female||||||||||||||||',\n",
       "       '|Female|||||||||||||||||||||||',\n",
       "       '|||||||||||||||||||||||||||||||||||||Female|||||||||||||||||||||||||',\n",
       "       '|Female||||||||||||||||||||||||||Female||||Female|||||||||||||||||',\n",
       "       '||||||||||||||||Female|||||||||||||', 'Female|||||Female|',\n",
       "       '||||||||||||||||||||Female||Female||||Female|Female|Female|||||||Female|||Female|Female|||||||||||||Female|||||||||||||||Female',\n",
       "       'Female||||||||||||', '||||||||||||||||||||||||||||||||',\n",
       "       '|||||||||||||||||||||||||', '|||||Female|||||||',\n",
       "       '|||||||||||||||||||||||||||||||||', '|||||Female||',\n",
       "       '|||Female|||||', '|||||Female', '||||||||||||||||||||||||',\n",
       "       '|||||||Female|||||||||||||||||||||||||',\n",
       "       '|||||||||||||||||||||||||||||||||||||', '|||||||||||||||||||',\n",
       "       '|||||Female||||Female|',\n",
       "       '||||||||Female|Female|Female|||||||||||||Female|||||',\n",
       "       '|||||||||Female|||||||||||||||||||||||', '|||Female||',\n",
       "       '|||||||||||||||||||||||||||||||||||||||||||||||||',\n",
       "       '||||||||Female||||', '||||||||||||||||||||||', 'Female||||',\n",
       "       '||||||||||||Female|||||', '|Female||||||||',\n",
       "       '||||||||||||Female||||Female||||Female|||||||||||',\n",
       "       '||Female||||', '|||||||||||||||||||||||||||||||||||',\n",
       "       '||||Female|||', 'Female||Female|Female', 'Female|Female||Female',\n",
       "       '||||||||Female|', '|Female|Female|||Female', '||||||Female',\n",
       "       '||||||||||||||||||||||||||||',\n",
       "       '|||||||||||||||||||||||||||||||Female||||', '|||Female|||',\n",
       "       '||Female|Female|Female|||||||Female||',\n",
       "       '|||||||||||||||||Female|||||', '||||Female|||||||',\n",
       "       '||||||||||||||||||||||||||||||Female|||||',\n",
       "       '|||||||||||||||||||||Female||||||||||||||||||||',\n",
       "       '|||||||||||||||||||||', '||||||||||||||||||||||||||Female|',\n",
       "       '|||||||||||||||||||||||||||||||||||||||||||||||', '||Female|||',\n",
       "       '||||||Female||', '|||Female||Female|',\n",
       "       '||||||||||||||Female|||||Female||',\n",
       "       '||||||||||||||||||||||||||||||||||||||||||||||||||||||||||||||||||||||||||||||',\n",
       "       '|||||||Female', '|||||||||||||||||||||||||||||||||||||||||',\n",
       "       '||||||||Female|||||||',\n",
       "       '|||Female|||Female|Female||||||Female|||||||||||||||||',\n",
       "       '||||||||||||||||||||Female|||||||||||||',\n",
       "       '|||||||||||||||||||||||||||||||||||||||', '|||||Female|',\n",
       "       'Female||||||', '||||||||||||||Female|||||', '|||||Female||||||',\n",
       "       '|Female|||||', '||||Female|Female||||Female||||||||Female|||',\n",
       "       '|||||||||||||Female|||', '||||||Female|||||',\n",
       "       '||Female||||||Female||||||||',\n",
       "       '||||||||||||||||||||||||||||||||||||||||||||||||||',\n",
       "       '|||||||||||||||||||||||||||||||||||||||||||||||||||||||||||||||||||||',\n",
       "       '||Female||||Female|Female', '|||||||||||||||Female||||',\n",
       "       '|||||||||||||||Female||Female||||||||Female||||', '|Female|||',\n",
       "       'Female||Female||Female|||||||||||||', 'Female|||||||',\n",
       "       'Female|||Female||||||||||Female|||||',\n",
       "       'Female||Female||||||Female|', '|||||Female|Female||||',\n",
       "       '||||Female||||||||', '|||||Female||||||||||||',\n",
       "       '||||||||||||||||||||||||||||||||||Female||||||||||Female',\n",
       "       '||||||||||||Female||||', '||||||||||Female||', '||||Female||',\n",
       "       '|Female||||||||Female|||||||Female|||||||||Female||||',\n",
       "       '||||Female|||||||||||',\n",
       "       '||||||||||||||||||||||||||||||Female|Female||||||||||||||||||||||||||||||||||||||||||Female||||Female|||||||||Female|Female|||||||||||||||||Female||Female||||||||||||||||||||||||||||',\n",
       "       '||||||||||||||||Female||||||', '|Female||||',\n",
       "       '|||||Female|||||||||||||Female||||||||||||||||||||||||||',\n",
       "       '||||||||Female||||||||||||||||||||', 'Female|||||',\n",
       "       '||||||||Female|||||Female||||||||||||Female||Female|Female|||||||||||||||Female|||||||',\n",
       "       '|||Female||||||||||||||||', '|||Female|||||Female',\n",
       "       '||Female|||Female|||', '|Female|||||||||Female|',\n",
       "       '|||Female||||||Female|||||||Female||||',\n",
       "       'Female|||||Female||||||||||||||||Female|',\n",
       "       '||Female|Female||||Female|Female|||||||||Female|',\n",
       "       '||Female|Female||||||Female||Female||||',\n",
       "       '|||||||||||||||Female|||||||||||||||||||||||||||||||||||||||||||||||||||||||||||Female||||||||',\n",
       "       '|||Female||||||||', '|||||||||Female|||||',\n",
       "       '|||||||Female|||||||', '||Female|Female||',\n",
       "       '||||Female||Female||||Female|||||', '|||||||||||||||||||||||',\n",
       "       '|||||||||||Female||||||||||Female||||||',\n",
       "       '||||||||||||||||||||Female||', '||||||||||||||||||Female||',\n",
       "       '|Female|||||||||||Female||||||',\n",
       "       '||Female||Female|Female||Female|Female||||Female||Female|Female||Female||Female|||',\n",
       "       'Female||||Female||||||Female||||Female||Female|||||Female||||||Female|Female|||Female|Female',\n",
       "       '||||Female|||||', '|||Female|||||||||||Female||||||||',\n",
       "       '||||||||||||||Female||||', '|||Female|||Female|||',\n",
       "       '||||||||||||||||||||||||||||||||||||||||||||',\n",
       "       '||||||||||||||Female|||||||||||||||||||||||',\n",
       "       '||||||||Female||||||||||||||||||||||||||||||', '|Female|Female||',\n",
       "       '||||||Female|||', '||Female||||||||', '|||||||||||||||Female|||',\n",
       "       '||Female|||||', '||||||||||Female|||||||Female|||||||||||||',\n",
       "       '||||||||||||Female|||||||||', '||||||||||||||||Female||||||||||',\n",
       "       '||||||||||||||||||||||||||||||Female||||||||||||||Female|||',\n",
       "       '||||||||||||Female||||||||Female||',\n",
       "       '|Female||||Female|Female||||||',\n",
       "       '|||||||||||||Female|||||||Female||',\n",
       "       '||||||||||||Female|||Female||',\n",
       "       '|Female||Female||||Female|Female|Female|Female|Female|Female|Female|Female|',\n",
       "       '||||||||||||Female|||||||||||Female||Female|Female||||||||||||Female||',\n",
       "       '|||||||||||||||||||||||||||||||||||||||||||',\n",
       "       'Female|Female||Female|',\n",
       "       'Female||||||||||||||Female|||||||||||||||||', '||Female|||||||',\n",
       "       'Female|||Female|||Female|', '|Female||||||||||||||||||||||||||||',\n",
       "       '|Female|||||||', '|||||Female||||||||||||||',\n",
       "       '||||||||||||||||||||||||||||||||||||||||||||||||||||||||||||||||||||||||||||',\n",
       "       'Female||||Female|||Female|Female|Female|Female||||||Female||Female||Female|Female|||Female||Female|Female||Female|Female|Female||||Female||||',\n",
       "       '|||||||||Female||||||||', '|||||||||||||||||Female',\n",
       "       '||Female|||||||||', 'Female|Female|||',\n",
       "       '||||||Female|||||||||||||||||||Female|||||||||',\n",
       "       '|||||||Female|||||||||||||||',\n",
       "       '||||||||||||||||||||||||||||||||||||||||||||||||||||||||Female||||||||||||||||Female|||||||||||||||||||||||||||||||||||',\n",
       "       '|||||||||||||||||||||||||||||||||||||||||||||||||||||||||||||||Female|||||||||||||Female|||||||||||||||||||||||||||||||||||||||||||||||||||||||||||',\n",
       "       '|||||||||||||||||||||||||||||||Female||||||||',\n",
       "       '|Female||Female|Female|||||',\n",
       "       '|||||||||||||||||||||||||Female||||',\n",
       "       '|||||||||||||||||||||Female||||||',\n",
       "       '||||||||||||||||||||||||||||||||||||||||||||||||||||||||||||||||||',\n",
       "       'Female|||||||||||',\n",
       "       '||||||||||||||||||||||||||||||||||||||||||||||||||||||||||||Female',\n",
       "       'Female||||Female', 'Female|||Female', 'Female||||Female|',\n",
       "       '|Female|Female|', '|||||||||||||||||Female||Female|||',\n",
       "       '||Female||||||||||||||||||||||||',\n",
       "       '|||||||||||||Female||||||||||||', 'Female||||||||||||||',\n",
       "       'Female|||||||||||||', 'Female|||||Female',\n",
       "       '||||||||||||||Female||Female|||||||', '|||||Female||||',\n",
       "       '||||||||||||||||||||Female||||||', '||Female|Female|',\n",
       "       'Female||Female|Female|Female||Female|Female||',\n",
       "       'Female|Female|Female|Female|Female|Female|Female||Female|Female|Female|Female|Female|Female|Female|Female|Female|Female||Female|Female|Female',\n",
       "       '|||Female|||||Female|', '|||||||||||Female', '|||Female|Female',\n",
       "       '|||Female||Female||||Female||', '||||||Female|',\n",
       "       '||||Female|||Female|Female|', 'Female|||Female||Female||||',\n",
       "       '|Female|Female|Female||||||', 'Female|Female|Female|||||||',\n",
       "       '|Female||Female||||Female||', '|||Female||Female|Female',\n",
       "       '|Female|Female||Female|||Female||Female', '|Female||Female|',\n",
       "       '||Female||Female', 'Female||Female||', '||Female||||||||||||||',\n",
       "       '||||||Female||||||||||||||||||||||', '||Female||Female|||',\n",
       "       '||||||||Female||||||',\n",
       "       'Female|Female|Female|Female|Female|Female|Female',\n",
       "       '||Female|||||||Female|', '|||Female||||',\n",
       "       'Female|||||Female||||Female|', '|Female||Female|||',\n",
       "       'Female||Female|', 'Female||Female|||', '||||Female|Female',\n",
       "       '|||||||||||||||||||||||||||||||Female||||||||Female|||||||||||Female||||||||||||||||||||||||||||||||||||',\n",
       "       '|||||Female|||||||||||||||||||||||||||||||||||||||||||||||||||||||||||||||||',\n",
       "       '|||||||||||||||||||||||||||Female|||||Female||||||||||||||||Female|||||||Female|||',\n",
       "       '||||||||||Female|||||||||||||||||||||||||||||Female|||||||||',\n",
       "       '||||||||Female|||Female||', '||||||||||||||||||||||||||||Female|',\n",
       "       'Female||||||||||||||||||Female||||||||||||||||||||||||||||||||Female|||||||||||||||||||||||||||||||||||||||||',\n",
       "       '|||||||||||||||||||||||||||||||||||||||||||||||||||||||||||||||||||||||||||||||||||||||||||||||||||||||||||||||||||||||||||||||||',\n",
       "       '||||||||||||||||||Female|||',\n",
       "       '|||Female|||Female||Female||Female||Female||Female',\n",
       "       '|||||||||||||||||||||||||||||||||||||Female|||||||||||||||||||||||||||||||||||||||||'],\n",
       "      dtype=object)"
      ]
     },
     "execution_count": 15,
     "metadata": {},
     "output_type": "execute_result"
    }
   ],
   "source": [
    "# Artist gender counts\n",
    "\n",
    "data_df[\"Artist Gender\"].unique()"
   ]
  },
  {
   "cell_type": "code",
   "execution_count": 13,
   "metadata": {},
   "outputs": [
    {
     "data": {
      "text/plain": [
       "Artist Nationality\n",
       "American                                                                     69831\n",
       "                                                                             26011\n",
       "French                                                                       21639\n",
       "Italian                                                                      13172\n",
       "British                                                                      12672\n",
       "                                                                             ...  \n",
       "Austrian|Austrian German|French| |Austrian                                       1\n",
       "British|British|British|British, born Denmark|British                            1\n",
       "British|British|British|British|British|British|British| |British|British        1\n",
       "British, Scottish, American                                                      1\n",
       "AMerican                                                                         1\n",
       "Name: count, Length: 6945, dtype: int64"
      ]
     },
     "execution_count": 13,
     "metadata": {},
     "output_type": "execute_result"
    }
   ],
   "source": [
    "#Artist Nationality counts\n",
    "\n",
    "data_df[\"Artist Nationality\"].value_counts()"
   ]
  }
 ],
 "metadata": {
  "kernelspec": {
   "display_name": "dev",
   "language": "python",
   "name": "python3"
  },
  "language_info": {
   "codemirror_mode": {
    "name": "ipython",
    "version": 3
   },
   "file_extension": ".py",
   "mimetype": "text/x-python",
   "name": "python",
   "nbconvert_exporter": "python",
   "pygments_lexer": "ipython3",
   "version": "3.10.13"
  }
 },
 "nbformat": 4,
 "nbformat_minor": 2
}
